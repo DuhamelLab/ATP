{
 "cells": [
  {
   "cell_type": "code",
   "execution_count": 2,
   "id": "e47268bc",
   "metadata": {},
   "outputs": [],
   "source": [
    "import tkinter as tk\n",
    "from tkinter import messagebox\n",
    "from datetime import datetime\n",
    "import csv\n",
    "\n",
    "# Customize your list of sample names here\n",
    "sample_names = [\"Sample1\", \"Sample2\", \"Sample3\", \"Sample4\", \"Sample5\"]\n",
    "\n",
    "class TimestampLoggerApp:\n",
    "    def __init__(self, master):\n",
    "        self.master = master\n",
    "        self.master.title(\"ATP Measurement Logger\")\n",
    "\n",
    "        self.entries = {}  # Holds sample name -> timestamp label\n",
    "\n",
    "        tk.Label(master, text=\"Sample\", font=(\"Arial\", 12, \"bold\")).grid(row=0, column=0, padx=10, pady=5)\n",
    "        tk.Label(master, text=\"Timestamp\", font=(\"Arial\", 12, \"bold\")).grid(row=0, column=1, padx=10, pady=5)\n",
    "\n",
    "        for i, sample in enumerate(sample_names):\n",
    "            tk.Label(master, text=sample).grid(row=i+1, column=0, padx=10, pady=5)\n",
    "            timestamp_label = tk.Label(master, text=\"---\")\n",
    "            timestamp_label.grid(row=i+1, column=1, padx=10, pady=5)\n",
    "            log_button = tk.Button(master, text=\"Log Time\", command=lambda s=sample, l=timestamp_label: self.log_time(s, l))\n",
    "            log_button.grid(row=i+1, column=2, padx=10, pady=5)\n",
    "            self.entries[sample] = timestamp_label\n",
    "\n",
    "        self.save_button = tk.Button(master, text=\"Save to CSV\", command=self.save_to_csv, bg=\"lightgreen\")\n",
    "        self.save_button.grid(row=len(sample_names)+1, column=0, columnspan=3, pady=15)\n",
    "\n",
    "    def log_time(self, sample, label):\n",
    "        timestamp = datetime.now().strftime(\"%Y-%m-%d %H:%M:%S\")\n",
    "        label.config(text=timestamp)\n",
    "\n",
    "    def save_to_csv(self):\n",
    "        filename = \"ATP_timestamps.csv\"\n",
    "        with open(filename, \"w\", newline=\"\") as f:\n",
    "            writer = csv.writer(f)\n",
    "            writer.writerow([\"Sample\", \"Timestamp\"])\n",
    "            for sample, label in self.entries.items():\n",
    "                writer.writerow([sample, label.cget(\"text\")])\n",
    "        messagebox.showinfo(\"Success\", f\"Timestamps saved to {filename}\")\n",
    "\n",
    "# Run the app\n",
    "if __name__ == \"__main__\":\n",
    "    root = tk.Tk()\n",
    "    app = TimestampLoggerApp(root)\n",
    "    root.mainloop()"
   ]
  }
 ],
 "metadata": {
  "kernelspec": {
   "display_name": "my_env",
   "language": "python",
   "name": "python3"
  },
  "language_info": {
   "codemirror_mode": {
    "name": "ipython",
    "version": 3
   },
   "file_extension": ".py",
   "mimetype": "text/x-python",
   "name": "python",
   "nbconvert_exporter": "python",
   "pygments_lexer": "ipython3",
   "version": "3.13.1"
  }
 },
 "nbformat": 4,
 "nbformat_minor": 5
}
